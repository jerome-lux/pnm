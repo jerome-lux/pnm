{
 "cells": [
  {
   "cell_type": "code",
   "execution_count": 1,
   "metadata": {},
   "outputs": [],
   "source": [
    "import numpy as np\n",
    "import scipy.interpolate as interpolate\n",
    "import matplotlib.pyplot as mpl"
   ]
  },
  {
   "cell_type": "code",
   "execution_count": 4,
   "metadata": {},
   "outputs": [],
   "source": [
    "def inverse_transform_sampling(data, n_bins=40, n_samples=1000):\n",
    "    hist, bin_edges = np.histogram(data, bins=n_bins, density=True)\n",
    "    cum_values = np.zeros(bin_edges.shape)\n",
    "    cum_values[1:] = np.cumsum(hist*np.diff(bin_edges))\n",
    "    print (bin_edges)\n",
    "    inv_cdf = interpolate.interp1d(cum_values, bin_edges)\n",
    "    r = np.random.rand(n_samples)\n",
    "    return inv_cdf(r)"
   ]
  },
  {
   "cell_type": "code",
   "execution_count": 5,
   "metadata": {},
   "outputs": [],
   "source": [
    "size = int(1e5)\n",
    "n_bins = np.linspace(0,2,50)"
   ]
  },
  {
   "cell_type": "code",
   "execution_count": 6,
   "metadata": {},
   "outputs": [
    {
     "name": "stdout",
     "output_type": "stream",
     "text": [
      "[ 0.          0.04081633  0.08163265  0.12244898  0.16326531  0.20408163\n",
      "  0.24489796  0.28571429  0.32653061  0.36734694  0.40816327  0.44897959\n",
      "  0.48979592  0.53061224  0.57142857  0.6122449   0.65306122  0.69387755\n",
      "  0.73469388  0.7755102   0.81632653  0.85714286  0.89795918  0.93877551\n",
      "  0.97959184  1.02040816  1.06122449  1.10204082  1.14285714  1.18367347\n",
      "  1.2244898   1.26530612  1.30612245  1.34693878  1.3877551   1.42857143\n",
      "  1.46938776  1.51020408  1.55102041  1.59183673  1.63265306  1.67346939\n",
      "  1.71428571  1.75510204  1.79591837  1.83673469  1.87755102  1.91836735\n",
      "  1.95918367  2.        ]\n"
     ]
    },
    {
     "data": {
      "text/plain": [
       "[<matplotlib.lines.Line2D at 0x110389780>]"
      ]
     },
     "execution_count": 6,
     "metadata": {},
     "output_type": "execute_result"
    },
    {
     "data": {
      "image/png": "[encoded data removed]",
      "text/plain": [
       "<matplotlib.figure.Figure at 0x1103897f0>"
      ]
     },
     "metadata": {},
     "output_type": "display_data"
    }
   ],
   "source": [
    "data  = np.random.normal(loc=1,scale=0.3,size=size)\n",
    "hist, bin_edges = np.histogram(data, bins=n_bins, density=True)\n",
    "\n",
    "data2 = inverse_transform_sampling(data,n_bins,n_samples = size)\n",
    "hist2, bin_edges2 = np.histogram(data2, bins=n_bins, density=True)\n",
    "\n",
    "mpl.plot(bin_edges[1:],hist,'*-')\n",
    "mpl.plot(bin_edges2[1:],hist2,'+-')"
   ]
  },
  {
   "cell_type": "code",
   "execution_count": 87,
   "metadata": {},
   "outputs": [],
   "source": [
    "def eqradius(ri,rj,lij,alpha=1):\n",
    "    return 0.5*(ri*(rj/np.sqrt(rj**2+lij**2))**alpha + rj*(ri/np.sqrt(ri**2+lij**2))**alpha)"
   ]
  },
  {
   "cell_type": "code",
   "execution_count": 88,
   "metadata": {},
   "outputs": [],
   "source": [
    "Ri = np.logspace(start=0,stop=4,num=50)\n",
    "Rj = 100\n",
    "length = np.linspace(1,10000,1)\n",
    "length =50"
   ]
  },
  {
   "cell_type": "code",
   "execution_count": 89,
   "metadata": {},
   "outputs": [
    {
     "name": "stdout",
     "output_type": "stream",
     "text": [
      "[  1.00000000e+00   1.20679264e+00   1.45634848e+00   1.75751062e+00\n",
      "   2.12095089e+00   2.55954792e+00   3.08884360e+00   3.72759372e+00\n",
      "   4.49843267e+00   5.42867544e+00   6.55128557e+00   7.90604321e+00\n",
      "   9.54095476e+00   1.15139540e+01   1.38949549e+01   1.67683294e+01\n",
      "   2.02358965e+01   2.44205309e+01   2.94705170e+01   3.55648031e+01\n",
      "   4.29193426e+01   5.17947468e+01   6.25055193e+01   7.54312006e+01\n",
      "   9.10298178e+01   1.09854114e+02   1.32571137e+02   1.59985872e+02\n",
      "   1.93069773e+02   2.32995181e+02   2.81176870e+02   3.39322177e+02\n",
      "   4.09491506e+02   4.94171336e+02   5.96362332e+02   7.19685673e+02\n",
      "   8.68511374e+02   1.04811313e+03   1.26485522e+03   1.52641797e+03\n",
      "   1.84206997e+03   2.22299648e+03   2.68269580e+03   3.23745754e+03\n",
      "   3.90693994e+03   4.71486636e+03   5.68986603e+03   6.86648845e+03\n",
      "   8.28642773e+03   1.00000000e+04]\n",
      "50\n"
     ]
    }
   ],
   "source": [
    "print(Ri)\n",
    "print(length)"
   ]
  },
  {
   "cell_type": "code",
   "execution_count": 93,
   "metadata": {},
   "outputs": [
    {
     "name": "stdout",
     "output_type": "stream",
     "text": [
      "5.47270454615\n"
     ]
    }
   ],
   "source": [
    "e = eqradius(Rj,Ri,lij=10,alpha=1)\n",
    "print(e.min())"
   ]
  },
  {
   "cell_type": "code",
   "execution_count": 94,
   "metadata": {},
   "outputs": [
    {
     "data": {
      "image/png": "[encoded data removed]",
      "text/plain": [
       "<Figure size 432x288 with 1 Axes>"
      ]
     },
     "metadata": {
      "needs_background": "light"
     },
     "output_type": "display_data"
    }
   ],
   "source": [
    "import matplotlib.pyplot as plt\n",
    "plt.plot(Ri/Rj,e/Rj)\n",
    "plt.yscale('log')\n",
    "plt.xscale('log')\n",
    "plt.ylabel('Effective radius / R0')\n",
    "plt.xlabel('R1/R0')\n",
    "plt.show()"
   ]
  },
  {
   "cell_type": "code",
   "execution_count": 86,
   "metadata": {},
   "outputs": [
    {
     "name": "stdout",
     "output_type": "stream",
     "text": [
      "0.0100,0.05\n",
      "0.0121,0.07\n",
      "0.0146,0.08\n",
      "0.0176,0.10\n",
      "0.0212,0.11\n",
      "0.0256,0.14\n",
      "0.0309,0.16\n",
      "0.0373,0.19\n",
      "0.0450,0.23\n",
      "0.0543,0.27\n",
      "0.0655,0.31\n",
      "0.0791,0.35\n",
      "0.0954,0.39\n",
      "0.1151,0.43\n",
      "0.1389,0.47\n",
      "0.1677,0.51\n",
      "0.2024,0.55\n",
      "0.2442,0.58\n",
      "0.2947,0.62\n",
      "0.3556,0.66\n",
      "0.4292,0.70\n",
      "0.5179,0.75\n",
      "0.6251,0.80\n",
      "0.7543,0.87\n",
      "0.9103,0.95\n",
      "1.0985,1.04\n",
      "1.3257,1.16\n",
      "1.5999,1.29\n",
      "1.9307,1.46\n",
      "2.3300,1.66\n",
      "2.8118,1.90\n",
      "3.3932,2.19\n",
      "4.0949,2.54\n",
      "4.9417,2.96\n",
      "5.9636,3.47\n",
      "7.1969,4.08\n",
      "8.6851,4.82\n",
      "10.4811,5.71\n",
      "12.6486,6.79\n",
      "15.2642,8.09\n",
      "18.4207,9.66\n",
      "22.2300,11.56\n",
      "26.8270,13.85\n",
      "32.3746,16.61\n",
      "39.0694,19.94\n",
      "47.1487,23.96\n",
      "56.8987,28.81\n",
      "68.6649,34.66\n",
      "82.8643,41.73\n",
      "100.0000,50.25\n"
     ]
    }
   ],
   "source": [
    "for i in range(e.size):\n",
    "    print(\"{:.4f},{:.2f}\".format(Ri[i]/Rj,e[i]/Rj))"
   ]
  },
  {
   "cell_type": "code",
   "execution_count": null,
   "metadata": {},
   "outputs": [],
   "source": []
  }
 ],
 "metadata": {
  "kernelspec": {
   "display_name": "Python 3",
   "language": "python",
   "name": "python3"
  },
  "language_info": {
   "codemirror_mode": {
    "name": "ipython",
    "version": 3
   },
   "file_extension": ".py",
   "mimetype": "text/x-python",
   "name": "python",
   "nbconvert_exporter": "python",
   "pygments_lexer": "ipython3",
   "version": "3.6.8"
  }
 },
 "nbformat": 4,
 "nbformat_minor": 2
}
